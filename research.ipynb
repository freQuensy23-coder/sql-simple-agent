{
 "cells": [
  {
   "cell_type": "code",
   "execution_count": 1,
   "metadata": {},
   "outputs": [],
   "source": [
    "from openai import Client\n",
    "from pprint import pprint\n",
    "import pandas as pd\n",
    "from llm_sandbox import SandboxSession\n",
    "import json\n",
    "import sqlite3\n",
    "import os\n"
   ]
  },
  {
   "cell_type": "code",
   "execution_count": 2,
   "metadata": {},
   "outputs": [],
   "source": [
    "client = Client()\n",
    "db = sqlite3.connect(\"database.sqlite\")\n"
   ]
  },
  {
   "cell_type": "code",
   "execution_count": 10,
   "metadata": {},
   "outputs": [],
   "source": [
    "tools = [\n",
    "  {\n",
    "      \"type\": \"function\",\n",
    "      \"function\": {\n",
    "          \"name\": \"run_sql_and_view_table\",\n",
    "          \"parameters\": {\n",
    "              \"type\": \"object\",\n",
    "              \"properties\": {\n",
    "                  \"sql_query\": {\"type\": \"string\"}\n",
    "              },\n",
    "          },\n",
    "      },\n",
    "  },\n",
    "  {\n",
    "    \"type\": \"function\",\n",
    "    \"function\": {\n",
    "      \"name\": \"run_sql_and_save_to_parquet\",\n",
    "      \"parameters\": {\n",
    "        \"type\": \"object\",\n",
    "        \"properties\": {\n",
    "          \"sql_query\": {\"type\": \"string\"},\n",
    "          \"file_name\": {\"type\": \"string\"}\n",
    "        },\n",
    "      },\n",
    "    },\n",
    "  },\n",
    "  {\n",
    "      \"type\": \"function\",\n",
    "      \"function\": {\n",
    "          \"name\": \"run_python\",\n",
    "          \"parameters\": {\n",
    "              \"type\": \"object\",\n",
    "              \"properties\": {\n",
    "                  \"python_code\": {\"type\": \"string\"}\n",
    "              },\n",
    "          },\n",
    "      },\n",
    "  },\n",
    "]"
   ]
  },
  {
   "cell_type": "code",
   "execution_count": 11,
   "metadata": {},
   "outputs": [],
   "source": [
    "schema_description = \"\"\"### Схема базы данных\n",
    "\n",
    "#### Таблица: `users` (Пользователи)\n",
    "- **id**: INTEGER PRIMARY KEY  \n",
    "  Уникальный идентификатор пользователя.\n",
    "- **name**: TEXT  \n",
    "  Полное имя пользователя.\n",
    "- **email**: TEXT  \n",
    "  Электронная почта пользователя. Уникальная для каждого пользователя.\n",
    "- **phone**: TEXT  \n",
    "  Телефонный номер пользователя.\n",
    "- **address**: TEXT  \n",
    "  Адрес пользователя.\n",
    "\n",
    "---\n",
    "\n",
    "#### Таблица: `employees` (Работники)\n",
    "- **id**: INTEGER PRIMARY KEY  \n",
    "  Уникальный идентификатор работника.\n",
    "- **name**: TEXT  \n",
    "  Полное имя работника.\n",
    "- **position**: TEXT  \n",
    "  Должность работника.\n",
    "- **salary**: REAL  \n",
    "  Зарплата работника.\n",
    "- **hire_date**: TEXT  \n",
    "  Дата приема на работу.\n",
    "\n",
    "---\n",
    "\n",
    "#### Таблица: `products` (Товары)\n",
    "- **id**: INTEGER PRIMARY KEY  \n",
    "  Уникальный идентификатор товара.\n",
    "- **name**: TEXT  \n",
    "  Название товара.\n",
    "- **price**: REAL  \n",
    "  Цена товара.\n",
    "- **stock**: INTEGER  \n",
    "  Количество товара на складе.\n",
    "\n",
    "---\n",
    "\n",
    "#### Таблица: `orders` (Заказы)\n",
    "- **id**: INTEGER PRIMARY KEY  \n",
    "  Уникальный идентификатор заказа.\n",
    "- **user_id**: INTEGER  \n",
    "  Идентификатор пользователя, сделавшего заказ (ссылается на `users.id`).\n",
    "- **product_id**: INTEGER  \n",
    "  Идентификатор товара в заказе (ссылается на `products.id`).\n",
    "- **quantity**: INTEGER  \n",
    "  Количество единиц товара в заказе.\n",
    "- **order_date**: TEXT  \n",
    "  Дата оформления заказа.\n",
    "\n",
    "---\n",
    "\n",
    "### Взаимосвязи между таблицами\n",
    "1. **Таблица `orders`**:\n",
    "   - Поле `user_id` связано с таблицей `users` через `users.id`.\n",
    "   - Поле `product_id` связано с таблицей `products` через `products.id`.\n",
    "\n",
    "### Примерные запросы для аналитиков\n",
    "1. **Список всех заказов с данными о пользователях и товарах:**\n",
    "   ```sql\n",
    "   SELECT orders.id, users.name AS user_name, products.name AS product_name, orders.quantity, orders.order_date\n",
    "   FROM orders\n",
    "   JOIN users ON orders.user_id = users.id\n",
    "   JOIN products ON orders.product_id = products.id;\n",
    "   ```\n",
    "\n",
    "2. **Сумма продаж по каждому товару:**\n",
    "   ```sql\n",
    "   SELECT products.name, SUM(orders.quantity * products.price) AS total_revenue\n",
    "   FROM orders\n",
    "   JOIN products ON orders.product_id = products.id\n",
    "   GROUP BY products.id;\n",
    "   ```\n",
    "\n",
    "3. **Список работников с зарплатой выше 50,000:**\n",
    "   ```sql\n",
    "   SELECT * FROM employees WHERE salary > 50000;\n",
    "   ```\n",
    "\n",
    "4. **Складские остатки товаров:**\n",
    "   ```sql\n",
    "   SELECT name, stock FROM products WHERE stock > 0;\n",
    "   ```\"\"\""
   ]
  },
  {
   "cell_type": "code",
   "execution_count": 12,
   "metadata": {},
   "outputs": [],
   "source": [
    "def sql2pandas(sql_query: str) -> pd.DataFrame:\n",
    "    global db\n",
    "    cursor = db.cursor()\n",
    "    cursor.execute(sql_query)\n",
    "    result = cursor.fetchall()\n",
    "    return pd.DataFrame(result)\n",
    "\n",
    "\n",
    "def sql2parquet(sql_query: str, file_name: str) -> None:\n",
    "    df = sql2pandas(sql_query)\n",
    "    df.to_parquet(file_name)\n",
    "\n",
    "def sql2str(sql_query: str) -> str:\n",
    "    \"\"\"Возвращает строку с первыми 4 строками таблицы. Так же отчищает от лишних символов итп, что бы тратить меньше токенов\"\"\"\n",
    "    df = sql2pandas(sql_query)\n",
    "    df = df.iloc[:4]\n",
    "    for column in df.columns:\n",
    "        df[column] = df[column].astype(str)\n",
    "        df[column] = df[column].apply(lambda x: x[:200] + \"...\" if len(x) > 200 else x)\n",
    "    return df.to_string()\n",
    "    "
   ]
  },
  {
   "cell_type": "code",
   "execution_count": 29,
   "metadata": {},
   "outputs": [
    {
     "ename": "BadRequestError",
     "evalue": "Error code: 400 - {'error': {'message': \"Invalid value for 'content': expected a string, got null.\", 'type': 'invalid_request_error', 'param': 'messages.[2].content', 'code': None}}",
     "output_type": "error",
     "traceback": [
      "\u001b[0;31m---------------------------------------------------------------------------\u001b[0m",
      "\u001b[0;31mBadRequestError\u001b[0m                           Traceback (most recent call last)",
      "Cell \u001b[0;32mIn[29], line 10\u001b[0m\n\u001b[1;32m      8\u001b[0m         \u001b[38;5;28;01mbreak\u001b[39;00m\n\u001b[1;32m      9\u001b[0m     history\u001b[38;5;241m.\u001b[39mappend({\u001b[38;5;124m\"\u001b[39m\u001b[38;5;124mrole\u001b[39m\u001b[38;5;124m\"\u001b[39m: \u001b[38;5;124m\"\u001b[39m\u001b[38;5;124muser\u001b[39m\u001b[38;5;124m\"\u001b[39m, \u001b[38;5;124m\"\u001b[39m\u001b[38;5;124mcontent\u001b[39m\u001b[38;5;124m\"\u001b[39m: user_input})\n\u001b[0;32m---> 10\u001b[0m completion \u001b[38;5;241m=\u001b[39m \u001b[43mclient\u001b[49m\u001b[38;5;241;43m.\u001b[39;49m\u001b[43mchat\u001b[49m\u001b[38;5;241;43m.\u001b[39;49m\u001b[43mcompletions\u001b[49m\u001b[38;5;241;43m.\u001b[39;49m\u001b[43mcreate\u001b[49m\u001b[43m(\u001b[49m\n\u001b[1;32m     11\u001b[0m \u001b[43m    \u001b[49m\u001b[43mmodel\u001b[49m\u001b[38;5;241;43m=\u001b[39;49m\u001b[38;5;124;43m\"\u001b[39;49m\u001b[38;5;124;43mgpt-4o\u001b[39;49m\u001b[38;5;124;43m\"\u001b[39;49m\u001b[43m,\u001b[49m\n\u001b[1;32m     12\u001b[0m \u001b[43m    \u001b[49m\u001b[43mmessages\u001b[49m\u001b[38;5;241;43m=\u001b[39;49m\u001b[43mhistory\u001b[49m\u001b[43m,\u001b[49m\n\u001b[1;32m     13\u001b[0m \u001b[43m    \u001b[49m\u001b[43mtools\u001b[49m\u001b[38;5;241;43m=\u001b[39;49m\u001b[43mtools\u001b[49m\u001b[43m,\u001b[49m\n\u001b[1;32m     14\u001b[0m \u001b[43m\u001b[49m\u001b[43m)\u001b[49m\n\u001b[1;32m     15\u001b[0m llm_answer: \u001b[38;5;28mstr\u001b[39m \u001b[38;5;241m=\u001b[39m completion\u001b[38;5;241m.\u001b[39mchoices[\u001b[38;5;241m0\u001b[39m]\u001b[38;5;241m.\u001b[39mmessage\u001b[38;5;241m.\u001b[39mcontent\n\u001b[1;32m     16\u001b[0m history\u001b[38;5;241m.\u001b[39mappend({\u001b[38;5;124m\"\u001b[39m\u001b[38;5;124mrole\u001b[39m\u001b[38;5;124m\"\u001b[39m: \u001b[38;5;124m\"\u001b[39m\u001b[38;5;124massistant\u001b[39m\u001b[38;5;124m\"\u001b[39m, \u001b[38;5;124m\"\u001b[39m\u001b[38;5;124mcontent\u001b[39m\u001b[38;5;124m\"\u001b[39m: llm_answer})\n",
      "File \u001b[0;32m~/PycharmProjects/sql-agent/.venv/lib/python3.12/site-packages/openai/_utils/_utils.py:275\u001b[0m, in \u001b[0;36mrequired_args.<locals>.inner.<locals>.wrapper\u001b[0;34m(*args, **kwargs)\u001b[0m\n\u001b[1;32m    273\u001b[0m             msg \u001b[38;5;241m=\u001b[39m \u001b[38;5;124mf\u001b[39m\u001b[38;5;124m\"\u001b[39m\u001b[38;5;124mMissing required argument: \u001b[39m\u001b[38;5;132;01m{\u001b[39;00mquote(missing[\u001b[38;5;241m0\u001b[39m])\u001b[38;5;132;01m}\u001b[39;00m\u001b[38;5;124m\"\u001b[39m\n\u001b[1;32m    274\u001b[0m     \u001b[38;5;28;01mraise\u001b[39;00m \u001b[38;5;167;01mTypeError\u001b[39;00m(msg)\n\u001b[0;32m--> 275\u001b[0m \u001b[38;5;28;01mreturn\u001b[39;00m \u001b[43mfunc\u001b[49m\u001b[43m(\u001b[49m\u001b[38;5;241;43m*\u001b[39;49m\u001b[43margs\u001b[49m\u001b[43m,\u001b[49m\u001b[43m \u001b[49m\u001b[38;5;241;43m*\u001b[39;49m\u001b[38;5;241;43m*\u001b[39;49m\u001b[43mkwargs\u001b[49m\u001b[43m)\u001b[49m\n",
      "File \u001b[0;32m~/PycharmProjects/sql-agent/.venv/lib/python3.12/site-packages/openai/resources/chat/completions.py:859\u001b[0m, in \u001b[0;36mCompletions.create\u001b[0;34m(self, messages, model, audio, frequency_penalty, function_call, functions, logit_bias, logprobs, max_completion_tokens, max_tokens, metadata, modalities, n, parallel_tool_calls, prediction, presence_penalty, reasoning_effort, response_format, seed, service_tier, stop, store, stream, stream_options, temperature, tool_choice, tools, top_logprobs, top_p, user, extra_headers, extra_query, extra_body, timeout)\u001b[0m\n\u001b[1;32m    817\u001b[0m \u001b[38;5;129m@required_args\u001b[39m([\u001b[38;5;124m\"\u001b[39m\u001b[38;5;124mmessages\u001b[39m\u001b[38;5;124m\"\u001b[39m, \u001b[38;5;124m\"\u001b[39m\u001b[38;5;124mmodel\u001b[39m\u001b[38;5;124m\"\u001b[39m], [\u001b[38;5;124m\"\u001b[39m\u001b[38;5;124mmessages\u001b[39m\u001b[38;5;124m\"\u001b[39m, \u001b[38;5;124m\"\u001b[39m\u001b[38;5;124mmodel\u001b[39m\u001b[38;5;124m\"\u001b[39m, \u001b[38;5;124m\"\u001b[39m\u001b[38;5;124mstream\u001b[39m\u001b[38;5;124m\"\u001b[39m])\n\u001b[1;32m    818\u001b[0m \u001b[38;5;28;01mdef\u001b[39;00m \u001b[38;5;21mcreate\u001b[39m(\n\u001b[1;32m    819\u001b[0m     \u001b[38;5;28mself\u001b[39m,\n\u001b[0;32m   (...)\u001b[0m\n\u001b[1;32m    856\u001b[0m     timeout: \u001b[38;5;28mfloat\u001b[39m \u001b[38;5;241m|\u001b[39m httpx\u001b[38;5;241m.\u001b[39mTimeout \u001b[38;5;241m|\u001b[39m \u001b[38;5;28;01mNone\u001b[39;00m \u001b[38;5;241m|\u001b[39m NotGiven \u001b[38;5;241m=\u001b[39m NOT_GIVEN,\n\u001b[1;32m    857\u001b[0m ) \u001b[38;5;241m-\u001b[39m\u001b[38;5;241m>\u001b[39m ChatCompletion \u001b[38;5;241m|\u001b[39m Stream[ChatCompletionChunk]:\n\u001b[1;32m    858\u001b[0m     validate_response_format(response_format)\n\u001b[0;32m--> 859\u001b[0m     \u001b[38;5;28;01mreturn\u001b[39;00m \u001b[38;5;28;43mself\u001b[39;49m\u001b[38;5;241;43m.\u001b[39;49m\u001b[43m_post\u001b[49m\u001b[43m(\u001b[49m\n\u001b[1;32m    860\u001b[0m \u001b[43m        \u001b[49m\u001b[38;5;124;43m\"\u001b[39;49m\u001b[38;5;124;43m/chat/completions\u001b[39;49m\u001b[38;5;124;43m\"\u001b[39;49m\u001b[43m,\u001b[49m\n\u001b[1;32m    861\u001b[0m \u001b[43m        \u001b[49m\u001b[43mbody\u001b[49m\u001b[38;5;241;43m=\u001b[39;49m\u001b[43mmaybe_transform\u001b[49m\u001b[43m(\u001b[49m\n\u001b[1;32m    862\u001b[0m \u001b[43m            \u001b[49m\u001b[43m{\u001b[49m\n\u001b[1;32m    863\u001b[0m \u001b[43m                \u001b[49m\u001b[38;5;124;43m\"\u001b[39;49m\u001b[38;5;124;43mmessages\u001b[39;49m\u001b[38;5;124;43m\"\u001b[39;49m\u001b[43m:\u001b[49m\u001b[43m \u001b[49m\u001b[43mmessages\u001b[49m\u001b[43m,\u001b[49m\n\u001b[1;32m    864\u001b[0m \u001b[43m                \u001b[49m\u001b[38;5;124;43m\"\u001b[39;49m\u001b[38;5;124;43mmodel\u001b[39;49m\u001b[38;5;124;43m\"\u001b[39;49m\u001b[43m:\u001b[49m\u001b[43m \u001b[49m\u001b[43mmodel\u001b[49m\u001b[43m,\u001b[49m\n\u001b[1;32m    865\u001b[0m \u001b[43m                \u001b[49m\u001b[38;5;124;43m\"\u001b[39;49m\u001b[38;5;124;43maudio\u001b[39;49m\u001b[38;5;124;43m\"\u001b[39;49m\u001b[43m:\u001b[49m\u001b[43m \u001b[49m\u001b[43maudio\u001b[49m\u001b[43m,\u001b[49m\n\u001b[1;32m    866\u001b[0m \u001b[43m                \u001b[49m\u001b[38;5;124;43m\"\u001b[39;49m\u001b[38;5;124;43mfrequency_penalty\u001b[39;49m\u001b[38;5;124;43m\"\u001b[39;49m\u001b[43m:\u001b[49m\u001b[43m \u001b[49m\u001b[43mfrequency_penalty\u001b[49m\u001b[43m,\u001b[49m\n\u001b[1;32m    867\u001b[0m \u001b[43m                \u001b[49m\u001b[38;5;124;43m\"\u001b[39;49m\u001b[38;5;124;43mfunction_call\u001b[39;49m\u001b[38;5;124;43m\"\u001b[39;49m\u001b[43m:\u001b[49m\u001b[43m \u001b[49m\u001b[43mfunction_call\u001b[49m\u001b[43m,\u001b[49m\n\u001b[1;32m    868\u001b[0m \u001b[43m                \u001b[49m\u001b[38;5;124;43m\"\u001b[39;49m\u001b[38;5;124;43mfunctions\u001b[39;49m\u001b[38;5;124;43m\"\u001b[39;49m\u001b[43m:\u001b[49m\u001b[43m \u001b[49m\u001b[43mfunctions\u001b[49m\u001b[43m,\u001b[49m\n\u001b[1;32m    869\u001b[0m \u001b[43m                \u001b[49m\u001b[38;5;124;43m\"\u001b[39;49m\u001b[38;5;124;43mlogit_bias\u001b[39;49m\u001b[38;5;124;43m\"\u001b[39;49m\u001b[43m:\u001b[49m\u001b[43m \u001b[49m\u001b[43mlogit_bias\u001b[49m\u001b[43m,\u001b[49m\n\u001b[1;32m    870\u001b[0m \u001b[43m                \u001b[49m\u001b[38;5;124;43m\"\u001b[39;49m\u001b[38;5;124;43mlogprobs\u001b[39;49m\u001b[38;5;124;43m\"\u001b[39;49m\u001b[43m:\u001b[49m\u001b[43m \u001b[49m\u001b[43mlogprobs\u001b[49m\u001b[43m,\u001b[49m\n\u001b[1;32m    871\u001b[0m \u001b[43m                \u001b[49m\u001b[38;5;124;43m\"\u001b[39;49m\u001b[38;5;124;43mmax_completion_tokens\u001b[39;49m\u001b[38;5;124;43m\"\u001b[39;49m\u001b[43m:\u001b[49m\u001b[43m \u001b[49m\u001b[43mmax_completion_tokens\u001b[49m\u001b[43m,\u001b[49m\n\u001b[1;32m    872\u001b[0m \u001b[43m                \u001b[49m\u001b[38;5;124;43m\"\u001b[39;49m\u001b[38;5;124;43mmax_tokens\u001b[39;49m\u001b[38;5;124;43m\"\u001b[39;49m\u001b[43m:\u001b[49m\u001b[43m \u001b[49m\u001b[43mmax_tokens\u001b[49m\u001b[43m,\u001b[49m\n\u001b[1;32m    873\u001b[0m \u001b[43m                \u001b[49m\u001b[38;5;124;43m\"\u001b[39;49m\u001b[38;5;124;43mmetadata\u001b[39;49m\u001b[38;5;124;43m\"\u001b[39;49m\u001b[43m:\u001b[49m\u001b[43m \u001b[49m\u001b[43mmetadata\u001b[49m\u001b[43m,\u001b[49m\n\u001b[1;32m    874\u001b[0m \u001b[43m                \u001b[49m\u001b[38;5;124;43m\"\u001b[39;49m\u001b[38;5;124;43mmodalities\u001b[39;49m\u001b[38;5;124;43m\"\u001b[39;49m\u001b[43m:\u001b[49m\u001b[43m \u001b[49m\u001b[43mmodalities\u001b[49m\u001b[43m,\u001b[49m\n\u001b[1;32m    875\u001b[0m \u001b[43m                \u001b[49m\u001b[38;5;124;43m\"\u001b[39;49m\u001b[38;5;124;43mn\u001b[39;49m\u001b[38;5;124;43m\"\u001b[39;49m\u001b[43m:\u001b[49m\u001b[43m \u001b[49m\u001b[43mn\u001b[49m\u001b[43m,\u001b[49m\n\u001b[1;32m    876\u001b[0m \u001b[43m                \u001b[49m\u001b[38;5;124;43m\"\u001b[39;49m\u001b[38;5;124;43mparallel_tool_calls\u001b[39;49m\u001b[38;5;124;43m\"\u001b[39;49m\u001b[43m:\u001b[49m\u001b[43m \u001b[49m\u001b[43mparallel_tool_calls\u001b[49m\u001b[43m,\u001b[49m\n\u001b[1;32m    877\u001b[0m \u001b[43m                \u001b[49m\u001b[38;5;124;43m\"\u001b[39;49m\u001b[38;5;124;43mprediction\u001b[39;49m\u001b[38;5;124;43m\"\u001b[39;49m\u001b[43m:\u001b[49m\u001b[43m \u001b[49m\u001b[43mprediction\u001b[49m\u001b[43m,\u001b[49m\n\u001b[1;32m    878\u001b[0m \u001b[43m                \u001b[49m\u001b[38;5;124;43m\"\u001b[39;49m\u001b[38;5;124;43mpresence_penalty\u001b[39;49m\u001b[38;5;124;43m\"\u001b[39;49m\u001b[43m:\u001b[49m\u001b[43m \u001b[49m\u001b[43mpresence_penalty\u001b[49m\u001b[43m,\u001b[49m\n\u001b[1;32m    879\u001b[0m \u001b[43m                \u001b[49m\u001b[38;5;124;43m\"\u001b[39;49m\u001b[38;5;124;43mreasoning_effort\u001b[39;49m\u001b[38;5;124;43m\"\u001b[39;49m\u001b[43m:\u001b[49m\u001b[43m \u001b[49m\u001b[43mreasoning_effort\u001b[49m\u001b[43m,\u001b[49m\n\u001b[1;32m    880\u001b[0m \u001b[43m                \u001b[49m\u001b[38;5;124;43m\"\u001b[39;49m\u001b[38;5;124;43mresponse_format\u001b[39;49m\u001b[38;5;124;43m\"\u001b[39;49m\u001b[43m:\u001b[49m\u001b[43m \u001b[49m\u001b[43mresponse_format\u001b[49m\u001b[43m,\u001b[49m\n\u001b[1;32m    881\u001b[0m \u001b[43m                \u001b[49m\u001b[38;5;124;43m\"\u001b[39;49m\u001b[38;5;124;43mseed\u001b[39;49m\u001b[38;5;124;43m\"\u001b[39;49m\u001b[43m:\u001b[49m\u001b[43m \u001b[49m\u001b[43mseed\u001b[49m\u001b[43m,\u001b[49m\n\u001b[1;32m    882\u001b[0m \u001b[43m                \u001b[49m\u001b[38;5;124;43m\"\u001b[39;49m\u001b[38;5;124;43mservice_tier\u001b[39;49m\u001b[38;5;124;43m\"\u001b[39;49m\u001b[43m:\u001b[49m\u001b[43m \u001b[49m\u001b[43mservice_tier\u001b[49m\u001b[43m,\u001b[49m\n\u001b[1;32m    883\u001b[0m \u001b[43m                \u001b[49m\u001b[38;5;124;43m\"\u001b[39;49m\u001b[38;5;124;43mstop\u001b[39;49m\u001b[38;5;124;43m\"\u001b[39;49m\u001b[43m:\u001b[49m\u001b[43m \u001b[49m\u001b[43mstop\u001b[49m\u001b[43m,\u001b[49m\n\u001b[1;32m    884\u001b[0m \u001b[43m                \u001b[49m\u001b[38;5;124;43m\"\u001b[39;49m\u001b[38;5;124;43mstore\u001b[39;49m\u001b[38;5;124;43m\"\u001b[39;49m\u001b[43m:\u001b[49m\u001b[43m \u001b[49m\u001b[43mstore\u001b[49m\u001b[43m,\u001b[49m\n\u001b[1;32m    885\u001b[0m \u001b[43m                \u001b[49m\u001b[38;5;124;43m\"\u001b[39;49m\u001b[38;5;124;43mstream\u001b[39;49m\u001b[38;5;124;43m\"\u001b[39;49m\u001b[43m:\u001b[49m\u001b[43m \u001b[49m\u001b[43mstream\u001b[49m\u001b[43m,\u001b[49m\n\u001b[1;32m    886\u001b[0m \u001b[43m                \u001b[49m\u001b[38;5;124;43m\"\u001b[39;49m\u001b[38;5;124;43mstream_options\u001b[39;49m\u001b[38;5;124;43m\"\u001b[39;49m\u001b[43m:\u001b[49m\u001b[43m \u001b[49m\u001b[43mstream_options\u001b[49m\u001b[43m,\u001b[49m\n\u001b[1;32m    887\u001b[0m \u001b[43m                \u001b[49m\u001b[38;5;124;43m\"\u001b[39;49m\u001b[38;5;124;43mtemperature\u001b[39;49m\u001b[38;5;124;43m\"\u001b[39;49m\u001b[43m:\u001b[49m\u001b[43m \u001b[49m\u001b[43mtemperature\u001b[49m\u001b[43m,\u001b[49m\n\u001b[1;32m    888\u001b[0m \u001b[43m                \u001b[49m\u001b[38;5;124;43m\"\u001b[39;49m\u001b[38;5;124;43mtool_choice\u001b[39;49m\u001b[38;5;124;43m\"\u001b[39;49m\u001b[43m:\u001b[49m\u001b[43m \u001b[49m\u001b[43mtool_choice\u001b[49m\u001b[43m,\u001b[49m\n\u001b[1;32m    889\u001b[0m \u001b[43m                \u001b[49m\u001b[38;5;124;43m\"\u001b[39;49m\u001b[38;5;124;43mtools\u001b[39;49m\u001b[38;5;124;43m\"\u001b[39;49m\u001b[43m:\u001b[49m\u001b[43m \u001b[49m\u001b[43mtools\u001b[49m\u001b[43m,\u001b[49m\n\u001b[1;32m    890\u001b[0m \u001b[43m                \u001b[49m\u001b[38;5;124;43m\"\u001b[39;49m\u001b[38;5;124;43mtop_logprobs\u001b[39;49m\u001b[38;5;124;43m\"\u001b[39;49m\u001b[43m:\u001b[49m\u001b[43m \u001b[49m\u001b[43mtop_logprobs\u001b[49m\u001b[43m,\u001b[49m\n\u001b[1;32m    891\u001b[0m \u001b[43m                \u001b[49m\u001b[38;5;124;43m\"\u001b[39;49m\u001b[38;5;124;43mtop_p\u001b[39;49m\u001b[38;5;124;43m\"\u001b[39;49m\u001b[43m:\u001b[49m\u001b[43m \u001b[49m\u001b[43mtop_p\u001b[49m\u001b[43m,\u001b[49m\n\u001b[1;32m    892\u001b[0m \u001b[43m                \u001b[49m\u001b[38;5;124;43m\"\u001b[39;49m\u001b[38;5;124;43muser\u001b[39;49m\u001b[38;5;124;43m\"\u001b[39;49m\u001b[43m:\u001b[49m\u001b[43m \u001b[49m\u001b[43muser\u001b[49m\u001b[43m,\u001b[49m\n\u001b[1;32m    893\u001b[0m \u001b[43m            \u001b[49m\u001b[43m}\u001b[49m\u001b[43m,\u001b[49m\n\u001b[1;32m    894\u001b[0m \u001b[43m            \u001b[49m\u001b[43mcompletion_create_params\u001b[49m\u001b[38;5;241;43m.\u001b[39;49m\u001b[43mCompletionCreateParams\u001b[49m\u001b[43m,\u001b[49m\n\u001b[1;32m    895\u001b[0m \u001b[43m        \u001b[49m\u001b[43m)\u001b[49m\u001b[43m,\u001b[49m\n\u001b[1;32m    896\u001b[0m \u001b[43m        \u001b[49m\u001b[43moptions\u001b[49m\u001b[38;5;241;43m=\u001b[39;49m\u001b[43mmake_request_options\u001b[49m\u001b[43m(\u001b[49m\n\u001b[1;32m    897\u001b[0m \u001b[43m            \u001b[49m\u001b[43mextra_headers\u001b[49m\u001b[38;5;241;43m=\u001b[39;49m\u001b[43mextra_headers\u001b[49m\u001b[43m,\u001b[49m\u001b[43m \u001b[49m\u001b[43mextra_query\u001b[49m\u001b[38;5;241;43m=\u001b[39;49m\u001b[43mextra_query\u001b[49m\u001b[43m,\u001b[49m\u001b[43m \u001b[49m\u001b[43mextra_body\u001b[49m\u001b[38;5;241;43m=\u001b[39;49m\u001b[43mextra_body\u001b[49m\u001b[43m,\u001b[49m\u001b[43m \u001b[49m\u001b[43mtimeout\u001b[49m\u001b[38;5;241;43m=\u001b[39;49m\u001b[43mtimeout\u001b[49m\n\u001b[1;32m    898\u001b[0m \u001b[43m        \u001b[49m\u001b[43m)\u001b[49m\u001b[43m,\u001b[49m\n\u001b[1;32m    899\u001b[0m \u001b[43m        \u001b[49m\u001b[43mcast_to\u001b[49m\u001b[38;5;241;43m=\u001b[39;49m\u001b[43mChatCompletion\u001b[49m\u001b[43m,\u001b[49m\n\u001b[1;32m    900\u001b[0m \u001b[43m        \u001b[49m\u001b[43mstream\u001b[49m\u001b[38;5;241;43m=\u001b[39;49m\u001b[43mstream\u001b[49m\u001b[43m \u001b[49m\u001b[38;5;129;43;01mor\u001b[39;49;00m\u001b[43m \u001b[49m\u001b[38;5;28;43;01mFalse\u001b[39;49;00m\u001b[43m,\u001b[49m\n\u001b[1;32m    901\u001b[0m \u001b[43m        \u001b[49m\u001b[43mstream_cls\u001b[49m\u001b[38;5;241;43m=\u001b[39;49m\u001b[43mStream\u001b[49m\u001b[43m[\u001b[49m\u001b[43mChatCompletionChunk\u001b[49m\u001b[43m]\u001b[49m\u001b[43m,\u001b[49m\n\u001b[1;32m    902\u001b[0m \u001b[43m    \u001b[49m\u001b[43m)\u001b[49m\n",
      "File \u001b[0;32m~/PycharmProjects/sql-agent/.venv/lib/python3.12/site-packages/openai/_base_client.py:1280\u001b[0m, in \u001b[0;36mSyncAPIClient.post\u001b[0;34m(self, path, cast_to, body, options, files, stream, stream_cls)\u001b[0m\n\u001b[1;32m   1266\u001b[0m \u001b[38;5;28;01mdef\u001b[39;00m \u001b[38;5;21mpost\u001b[39m(\n\u001b[1;32m   1267\u001b[0m     \u001b[38;5;28mself\u001b[39m,\n\u001b[1;32m   1268\u001b[0m     path: \u001b[38;5;28mstr\u001b[39m,\n\u001b[0;32m   (...)\u001b[0m\n\u001b[1;32m   1275\u001b[0m     stream_cls: \u001b[38;5;28mtype\u001b[39m[_StreamT] \u001b[38;5;241m|\u001b[39m \u001b[38;5;28;01mNone\u001b[39;00m \u001b[38;5;241m=\u001b[39m \u001b[38;5;28;01mNone\u001b[39;00m,\n\u001b[1;32m   1276\u001b[0m ) \u001b[38;5;241m-\u001b[39m\u001b[38;5;241m>\u001b[39m ResponseT \u001b[38;5;241m|\u001b[39m _StreamT:\n\u001b[1;32m   1277\u001b[0m     opts \u001b[38;5;241m=\u001b[39m FinalRequestOptions\u001b[38;5;241m.\u001b[39mconstruct(\n\u001b[1;32m   1278\u001b[0m         method\u001b[38;5;241m=\u001b[39m\u001b[38;5;124m\"\u001b[39m\u001b[38;5;124mpost\u001b[39m\u001b[38;5;124m\"\u001b[39m, url\u001b[38;5;241m=\u001b[39mpath, json_data\u001b[38;5;241m=\u001b[39mbody, files\u001b[38;5;241m=\u001b[39mto_httpx_files(files), \u001b[38;5;241m*\u001b[39m\u001b[38;5;241m*\u001b[39moptions\n\u001b[1;32m   1279\u001b[0m     )\n\u001b[0;32m-> 1280\u001b[0m     \u001b[38;5;28;01mreturn\u001b[39;00m cast(ResponseT, \u001b[38;5;28;43mself\u001b[39;49m\u001b[38;5;241;43m.\u001b[39;49m\u001b[43mrequest\u001b[49m\u001b[43m(\u001b[49m\u001b[43mcast_to\u001b[49m\u001b[43m,\u001b[49m\u001b[43m \u001b[49m\u001b[43mopts\u001b[49m\u001b[43m,\u001b[49m\u001b[43m \u001b[49m\u001b[43mstream\u001b[49m\u001b[38;5;241;43m=\u001b[39;49m\u001b[43mstream\u001b[49m\u001b[43m,\u001b[49m\u001b[43m \u001b[49m\u001b[43mstream_cls\u001b[49m\u001b[38;5;241;43m=\u001b[39;49m\u001b[43mstream_cls\u001b[49m\u001b[43m)\u001b[49m)\n",
      "File \u001b[0;32m~/PycharmProjects/sql-agent/.venv/lib/python3.12/site-packages/openai/_base_client.py:957\u001b[0m, in \u001b[0;36mSyncAPIClient.request\u001b[0;34m(self, cast_to, options, remaining_retries, stream, stream_cls)\u001b[0m\n\u001b[1;32m    954\u001b[0m \u001b[38;5;28;01melse\u001b[39;00m:\n\u001b[1;32m    955\u001b[0m     retries_taken \u001b[38;5;241m=\u001b[39m \u001b[38;5;241m0\u001b[39m\n\u001b[0;32m--> 957\u001b[0m \u001b[38;5;28;01mreturn\u001b[39;00m \u001b[38;5;28;43mself\u001b[39;49m\u001b[38;5;241;43m.\u001b[39;49m\u001b[43m_request\u001b[49m\u001b[43m(\u001b[49m\n\u001b[1;32m    958\u001b[0m \u001b[43m    \u001b[49m\u001b[43mcast_to\u001b[49m\u001b[38;5;241;43m=\u001b[39;49m\u001b[43mcast_to\u001b[49m\u001b[43m,\u001b[49m\n\u001b[1;32m    959\u001b[0m \u001b[43m    \u001b[49m\u001b[43moptions\u001b[49m\u001b[38;5;241;43m=\u001b[39;49m\u001b[43moptions\u001b[49m\u001b[43m,\u001b[49m\n\u001b[1;32m    960\u001b[0m \u001b[43m    \u001b[49m\u001b[43mstream\u001b[49m\u001b[38;5;241;43m=\u001b[39;49m\u001b[43mstream\u001b[49m\u001b[43m,\u001b[49m\n\u001b[1;32m    961\u001b[0m \u001b[43m    \u001b[49m\u001b[43mstream_cls\u001b[49m\u001b[38;5;241;43m=\u001b[39;49m\u001b[43mstream_cls\u001b[49m\u001b[43m,\u001b[49m\n\u001b[1;32m    962\u001b[0m \u001b[43m    \u001b[49m\u001b[43mretries_taken\u001b[49m\u001b[38;5;241;43m=\u001b[39;49m\u001b[43mretries_taken\u001b[49m\u001b[43m,\u001b[49m\n\u001b[1;32m    963\u001b[0m \u001b[43m\u001b[49m\u001b[43m)\u001b[49m\n",
      "File \u001b[0;32m~/PycharmProjects/sql-agent/.venv/lib/python3.12/site-packages/openai/_base_client.py:1061\u001b[0m, in \u001b[0;36mSyncAPIClient._request\u001b[0;34m(self, cast_to, options, retries_taken, stream, stream_cls)\u001b[0m\n\u001b[1;32m   1058\u001b[0m         err\u001b[38;5;241m.\u001b[39mresponse\u001b[38;5;241m.\u001b[39mread()\n\u001b[1;32m   1060\u001b[0m     log\u001b[38;5;241m.\u001b[39mdebug(\u001b[38;5;124m\"\u001b[39m\u001b[38;5;124mRe-raising status error\u001b[39m\u001b[38;5;124m\"\u001b[39m)\n\u001b[0;32m-> 1061\u001b[0m     \u001b[38;5;28;01mraise\u001b[39;00m \u001b[38;5;28mself\u001b[39m\u001b[38;5;241m.\u001b[39m_make_status_error_from_response(err\u001b[38;5;241m.\u001b[39mresponse) \u001b[38;5;28;01mfrom\u001b[39;00m \u001b[38;5;28;01mNone\u001b[39;00m\n\u001b[1;32m   1063\u001b[0m \u001b[38;5;28;01mreturn\u001b[39;00m \u001b[38;5;28mself\u001b[39m\u001b[38;5;241m.\u001b[39m_process_response(\n\u001b[1;32m   1064\u001b[0m     cast_to\u001b[38;5;241m=\u001b[39mcast_to,\n\u001b[1;32m   1065\u001b[0m     options\u001b[38;5;241m=\u001b[39moptions,\n\u001b[0;32m   (...)\u001b[0m\n\u001b[1;32m   1069\u001b[0m     retries_taken\u001b[38;5;241m=\u001b[39mretries_taken,\n\u001b[1;32m   1070\u001b[0m )\n",
      "\u001b[0;31mBadRequestError\u001b[0m: Error code: 400 - {'error': {'message': \"Invalid value for 'content': expected a string, got null.\", 'type': 'invalid_request_error', 'param': 'messages.[2].content', 'code': None}}"
     ]
    }
   ],
   "source": [
    "SYSTEM_MESSAGE: dict = {\"role\": \"system\", \"content\": \"You are a helpful assistant that can run SQL commands. \\n Database schema: \\n\" + schema_description}\n",
    "history: list[dict] = [SYSTEM_MESSAGE]\n",
    "need_user_intent: bool = True\n",
    "while True:\n",
    "    if need_user_intent:\n",
    "        user_input: str = input()\n",
    "        if user_input == \"exit\":\n",
    "            break\n",
    "        history.append({\"role\": \"user\", \"content\": user_input})\n",
    "    completion = client.chat.completions.create(\n",
    "        model=\"gpt-4o\",\n",
    "        messages=history,\n",
    "        tools=tools,\n",
    "    )\n",
    "    llm_answer: str = completion.choices[0].message.content\n",
    "    history.append({\"role\": \"assistant\", \"content\": llm_answer})\n",
    "    if completion.choices[0].message.tool_calls:\n",
    "        tool_call: dict = completion.choices[0].message.tool_calls[0]\n",
    "        tool_name: str = tool_call.function.name\n",
    "        tool_args = tool_call.function.arguments\n",
    "        if tool_name == \"run_sql_and_view_table\":\n",
    "            sql_query: str = json.loads(tool_args)[\"sql_query\"]\n",
    "            result: str = sql2str(sql_query)\n",
    "            history.append({\"role\": \"tool\", \"content\": result})\n",
    "        if tool_name == \"run_sql_and_save_to_parquet\":\n",
    "            sql_query: str = json.loads(tool_args)[\"sql_query\"]\n",
    "            file_name: str = json.loads(tool_args)[\"file_name\"]\n",
    "            sql2parquet(sql_query, file_name)\n",
    "            history.append({\"role\": \"tool\", \"content\": f\"File {file_name} saved\"})\n",
    "        if tool_name == \"run_python\":\n",
    "            python_code: str = json.loads(tool_args)[\"python_code\"]\n",
    "            result = exec(python_code)\n",
    "            history.append({\"role\": \"tool\", \"content\": f\"Python code executed with result: {result}\"})\n",
    "    else:\n",
    "        need_user_intent = True\n",
    "        print(\"LLM says: \", completion.choices[0].message.content)"
   ]
  },
  {
   "cell_type": "code",
   "execution_count": 30,
   "metadata": {},
   "outputs": [
    {
     "data": {
      "text/plain": [
       "[{'role': 'system',\n",
       "  'content': 'You are a helpful assistant that can run SQL commands. \\n Database schema: \\n### Схема базы данных\\n\\n#### Таблица: `users` (Пользователи)\\n- **id**: INTEGER PRIMARY KEY  \\n  Уникальный идентификатор пользователя.\\n- **name**: TEXT  \\n  Полное имя пользователя.\\n- **email**: TEXT  \\n  Электронная почта пользователя. Уникальная для каждого пользователя.\\n- **phone**: TEXT  \\n  Телефонный номер пользователя.\\n- **address**: TEXT  \\n  Адрес пользователя.\\n\\n---\\n\\n#### Таблица: `employees` (Работники)\\n- **id**: INTEGER PRIMARY KEY  \\n  Уникальный идентификатор работника.\\n- **name**: TEXT  \\n  Полное имя работника.\\n- **position**: TEXT  \\n  Должность работника.\\n- **salary**: REAL  \\n  Зарплата работника.\\n- **hire_date**: TEXT  \\n  Дата приема на работу.\\n\\n---\\n\\n#### Таблица: `products` (Товары)\\n- **id**: INTEGER PRIMARY KEY  \\n  Уникальный идентификатор товара.\\n- **name**: TEXT  \\n  Название товара.\\n- **price**: REAL  \\n  Цена товара.\\n- **stock**: INTEGER  \\n  Количество товара на складе.\\n\\n---\\n\\n#### Таблица: `orders` (Заказы)\\n- **id**: INTEGER PRIMARY KEY  \\n  Уникальный идентификатор заказа.\\n- **user_id**: INTEGER  \\n  Идентификатор пользователя, сделавшего заказ (ссылается на `users.id`).\\n- **product_id**: INTEGER  \\n  Идентификатор товара в заказе (ссылается на `products.id`).\\n- **quantity**: INTEGER  \\n  Количество единиц товара в заказе.\\n- **order_date**: TEXT  \\n  Дата оформления заказа.\\n\\n---\\n\\n### Взаимосвязи между таблицами\\n1. **Таблица `orders`**:\\n   - Поле `user_id` связано с таблицей `users` через `users.id`.\\n   - Поле `product_id` связано с таблицей `products` через `products.id`.\\n\\n### Примерные запросы для аналитиков\\n1. **Список всех заказов с данными о пользователях и товарах:**\\n   ```sql\\n   SELECT orders.id, users.name AS user_name, products.name AS product_name, orders.quantity, orders.order_date\\n   FROM orders\\n   JOIN users ON orders.user_id = users.id\\n   JOIN products ON orders.product_id = products.id;\\n   ```\\n\\n2. **Сумма продаж по каждому товару:**\\n   ```sql\\n   SELECT products.name, SUM(orders.quantity * products.price) AS total_revenue\\n   FROM orders\\n   JOIN products ON orders.product_id = products.id\\n   GROUP BY products.id;\\n   ```\\n\\n3. **Список работников с зарплатой выше 50,000:**\\n   ```sql\\n   SELECT * FROM employees WHERE salary > 50000;\\n   ```\\n\\n4. **Складские остатки товаров:**\\n   ```sql\\n   SELECT name, stock FROM products WHERE stock > 0;\\n   ```'},\n",
       " {'role': 'user', 'content': 'кто из сотрудников получает больше всего'},\n",
       " {'role': 'assistant', 'content': None},\n",
       " {'role': 'tool',\n",
       "  'content': '             0          1\\n0  Sonia Brown  119298.66'},\n",
       " {'role': 'user', 'content': 'кто из сотрудников получает больше всего'}]"
      ]
     },
     "execution_count": 30,
     "metadata": {},
     "output_type": "execute_result"
    }
   ],
   "source": [
    "history"
   ]
  },
  {
   "cell_type": "code",
   "execution_count": 26,
   "metadata": {},
   "outputs": [
    {
     "data": {
      "text/plain": [
       "({'role': 'system',\n",
       "  'content': 'You are a helpful assistant that can run SQL commands. \\n Database schema: \\n### Схема базы данных\\n\\n#### Таблица: `users` (Пользователи)\\n- **id**: INTEGER PRIMARY KEY  \\n  Уникальный идентификатор пользователя.\\n- **name**: TEXT  \\n  Полное имя пользователя.\\n- **email**: TEXT  \\n  Электронная почта пользователя. Уникальная для каждого пользователя.\\n- **phone**: TEXT  \\n  Телефонный номер пользователя.\\n- **address**: TEXT  \\n  Адрес пользователя.\\n\\n---\\n\\n#### Таблица: `employees` (Работники)\\n- **id**: INTEGER PRIMARY KEY  \\n  Уникальный идентификатор работника.\\n- **name**: TEXT  \\n  Полное имя работника.\\n- **position**: TEXT  \\n  Должность работника.\\n- **salary**: REAL  \\n  Зарплата работника.\\n- **hire_date**: TEXT  \\n  Дата приема на работу.\\n\\n---\\n\\n#### Таблица: `products` (Товары)\\n- **id**: INTEGER PRIMARY KEY  \\n  Уникальный идентификатор товара.\\n- **name**: TEXT  \\n  Название товара.\\n- **price**: REAL  \\n  Цена товара.\\n- **stock**: INTEGER  \\n  Количество товара на складе.\\n\\n---\\n\\n#### Таблица: `orders` (Заказы)\\n- **id**: INTEGER PRIMARY KEY  \\n  Уникальный идентификатор заказа.\\n- **user_id**: INTEGER  \\n  Идентификатор пользователя, сделавшего заказ (ссылается на `users.id`).\\n- **product_id**: INTEGER  \\n  Идентификатор товара в заказе (ссылается на `products.id`).\\n- **quantity**: INTEGER  \\n  Количество единиц товара в заказе.\\n- **order_date**: TEXT  \\n  Дата оформления заказа.\\n\\n---\\n\\n### Взаимосвязи между таблицами\\n1. **Таблица `orders`**:\\n   - Поле `user_id` связано с таблицей `users` через `users.id`.\\n   - Поле `product_id` связано с таблицей `products` через `products.id`.\\n\\n### Примерные запросы для аналитиков\\n1. **Список всех заказов с данными о пользователях и товарах:**\\n   ```sql\\n   SELECT orders.id, users.name AS user_name, products.name AS product_name, orders.quantity, orders.order_date\\n   FROM orders\\n   JOIN users ON orders.user_id = users.id\\n   JOIN products ON orders.product_id = products.id;\\n   ```\\n\\n2. **Сумма продаж по каждому товару:**\\n   ```sql\\n   SELECT products.name, SUM(orders.quantity * products.price) AS total_revenue\\n   FROM orders\\n   JOIN products ON orders.product_id = products.id\\n   GROUP BY products.id;\\n   ```\\n\\n3. **Список работников с зарплатой выше 50,000:**\\n   ```sql\\n   SELECT * FROM employees WHERE salary > 50000;\\n   ```\\n\\n4. **Складские остатки товаров:**\\n   ```sql\\n   SELECT name, stock FROM products WHERE stock > 0;\\n   ```'},)"
      ]
     },
     "execution_count": 26,
     "metadata": {},
     "output_type": "execute_result"
    }
   ],
   "source": [
    "SYSTEM_MESSAGE: dict = {\"role\": \"system\", \"content\": \"You are a helpful assistant that can run SQL commands. \\n Database schema: \\n\" + schema_description}\n",
    "SYSTEM_MESSAGE"
   ]
  },
  {
   "cell_type": "code",
   "execution_count": 20,
   "metadata": {},
   "outputs": [
    {
     "data": {
      "text/plain": [
       "({'role': 'system',\n",
       "  'content': 'You are a helpful assistant that can run SQL commands. \\n Database schema: \\n### Схема базы данных\\n\\n#### Таблица: `users` (Пользователи)\\n- **id**: INTEGER PRIMARY KEY  \\n  Уникальный идентификатор пользователя.\\n- **name**: TEXT  \\n  Полное имя пользователя.\\n- **email**: TEXT  \\n  Электронная почта пользователя. Уникальная для каждого пользователя.\\n- **phone**: TEXT  \\n  Телефонный номер пользователя.\\n- **address**: TEXT  \\n  Адрес пользователя.\\n\\n---\\n\\n#### Таблица: `employees` (Работники)\\n- **id**: INTEGER PRIMARY KEY  \\n  Уникальный идентификатор работника.\\n- **name**: TEXT  \\n  Полное имя работника.\\n- **position**: TEXT  \\n  Должность работника.\\n- **salary**: REAL  \\n  Зарплата работника.\\n- **hire_date**: TEXT  \\n  Дата приема на работу.\\n\\n---\\n\\n#### Таблица: `products` (Товары)\\n- **id**: INTEGER PRIMARY KEY  \\n  Уникальный идентификатор товара.\\n- **name**: TEXT  \\n  Название товара.\\n- **price**: REAL  \\n  Цена товара.\\n- **stock**: INTEGER  \\n  Количество товара на складе.\\n\\n---\\n\\n#### Таблица: `orders` (Заказы)\\n- **id**: INTEGER PRIMARY KEY  \\n  Уникальный идентификатор заказа.\\n- **user_id**: INTEGER  \\n  Идентификатор пользователя, сделавшего заказ (ссылается на `users.id`).\\n- **product_id**: INTEGER  \\n  Идентификатор товара в заказе (ссылается на `products.id`).\\n- **quantity**: INTEGER  \\n  Количество единиц товара в заказе.\\n- **order_date**: TEXT  \\n  Дата оформления заказа.\\n\\n---\\n\\n### Взаимосвязи между таблицами\\n1. **Таблица `orders`**:\\n   - Поле `user_id` связано с таблицей `users` через `users.id`.\\n   - Поле `product_id` связано с таблицей `products` через `products.id`.\\n\\n### Примерные запросы для аналитиков\\n1. **Список всех заказов с данными о пользователях и товарах:**\\n   ```sql\\n   SELECT orders.id, users.name AS user_name, products.name AS product_name, orders.quantity, orders.order_date\\n   FROM orders\\n   JOIN users ON orders.user_id = users.id\\n   JOIN products ON orders.product_id = products.id;\\n   ```\\n\\n2. **Сумма продаж по каждому товару:**\\n   ```sql\\n   SELECT products.name, SUM(orders.quantity * products.price) AS total_revenue\\n   FROM orders\\n   JOIN products ON orders.product_id = products.id\\n   GROUP BY products.id;\\n   ```\\n\\n3. **Список работников с зарплатой выше 50,000:**\\n   ```sql\\n   SELECT * FROM employees WHERE salary > 50000;\\n   ```\\n\\n4. **Складские остатки товаров:**\\n   ```sql\\n   SELECT name, stock FROM products WHERE stock > 0;\\n   ```'},)"
      ]
     },
     "execution_count": 20,
     "metadata": {},
     "output_type": "execute_result"
    }
   ],
   "source": [
    "SYSTEM_MESSAGE"
   ]
  },
  {
   "cell_type": "code",
   "execution_count": 21,
   "metadata": {},
   "outputs": [
    {
     "data": {
      "text/plain": [
       "[({'role': 'system',\n",
       "   'content': 'You are a helpful assistant that can run SQL commands. \\n Database schema: \\n### Схема базы данных\\n\\n#### Таблица: `users` (Пользователи)\\n- **id**: INTEGER PRIMARY KEY  \\n  Уникальный идентификатор пользователя.\\n- **name**: TEXT  \\n  Полное имя пользователя.\\n- **email**: TEXT  \\n  Электронная почта пользователя. Уникальная для каждого пользователя.\\n- **phone**: TEXT  \\n  Телефонный номер пользователя.\\n- **address**: TEXT  \\n  Адрес пользователя.\\n\\n---\\n\\n#### Таблица: `employees` (Работники)\\n- **id**: INTEGER PRIMARY KEY  \\n  Уникальный идентификатор работника.\\n- **name**: TEXT  \\n  Полное имя работника.\\n- **position**: TEXT  \\n  Должность работника.\\n- **salary**: REAL  \\n  Зарплата работника.\\n- **hire_date**: TEXT  \\n  Дата приема на работу.\\n\\n---\\n\\n#### Таблица: `products` (Товары)\\n- **id**: INTEGER PRIMARY KEY  \\n  Уникальный идентификатор товара.\\n- **name**: TEXT  \\n  Название товара.\\n- **price**: REAL  \\n  Цена товара.\\n- **stock**: INTEGER  \\n  Количество товара на складе.\\n\\n---\\n\\n#### Таблица: `orders` (Заказы)\\n- **id**: INTEGER PRIMARY KEY  \\n  Уникальный идентификатор заказа.\\n- **user_id**: INTEGER  \\n  Идентификатор пользователя, сделавшего заказ (ссылается на `users.id`).\\n- **product_id**: INTEGER  \\n  Идентификатор товара в заказе (ссылается на `products.id`).\\n- **quantity**: INTEGER  \\n  Количество единиц товара в заказе.\\n- **order_date**: TEXT  \\n  Дата оформления заказа.\\n\\n---\\n\\n### Взаимосвязи между таблицами\\n1. **Таблица `orders`**:\\n   - Поле `user_id` связано с таблицей `users` через `users.id`.\\n   - Поле `product_id` связано с таблицей `products` через `products.id`.\\n\\n### Примерные запросы для аналитиков\\n1. **Список всех заказов с данными о пользователях и товарах:**\\n   ```sql\\n   SELECT orders.id, users.name AS user_name, products.name AS product_name, orders.quantity, orders.order_date\\n   FROM orders\\n   JOIN users ON orders.user_id = users.id\\n   JOIN products ON orders.product_id = products.id;\\n   ```\\n\\n2. **Сумма продаж по каждому товару:**\\n   ```sql\\n   SELECT products.name, SUM(orders.quantity * products.price) AS total_revenue\\n   FROM orders\\n   JOIN products ON orders.product_id = products.id\\n   GROUP BY products.id;\\n   ```\\n\\n3. **Список работников с зарплатой выше 50,000:**\\n   ```sql\\n   SELECT * FROM employees WHERE salary > 50000;\\n   ```\\n\\n4. **Складские остатки товаров:**\\n   ```sql\\n   SELECT name, stock FROM products WHERE stock > 0;\\n   ```'},)]"
      ]
     },
     "execution_count": 21,
     "metadata": {},
     "output_type": "execute_result"
    }
   ],
   "source": [
    "history"
   ]
  },
  {
   "cell_type": "code",
   "execution_count": 9,
   "metadata": {},
   "outputs": [
    {
     "name": "stdout",
     "output_type": "stream",
     "text": [
      "1\n"
     ]
    }
   ],
   "source": [
    "exec(\"print(1)\")"
   ]
  },
  {
   "cell_type": "code",
   "execution_count": 18,
   "metadata": {},
   "outputs": [
    {
     "name": "stdout",
     "output_type": "stream",
     "text": [
      "{'finish_reason': 'tool_calls',\n",
      " 'index': 0,\n",
      " 'logprobs': None,\n",
      " 'message': {'content': None,\n",
      "             'refusal': None,\n",
      "             'role': 'assistant',\n",
      "             'tool_calls': [{'function': {'arguments': '{\"sql_query\":\"SELECT '\n",
      "                                                       'temperature, '\n",
      "                                                       'weather_description '\n",
      "                                                       'FROM city_weather '\n",
      "                                                       'WHERE city_name = '\n",
      "                                                       '\\'Paris\\'\"}',\n",
      "                                          'name': 'run_sql_command'},\n",
      "                             'id': 'call_LPlMsPZc1rViIpymV97ohAN9',\n",
      "                             'type': 'function'}]}}\n"
     ]
    }
   ],
   "source": [
    "pprint(completion.choices[0].to_dict())"
   ]
  },
  {
   "cell_type": "code",
   "execution_count": 12,
   "metadata": {},
   "outputs": [],
   "source": [
    "llm_code = \"\"\"\n",
    "import numpy as np\\n\\n# Данные о суммах заказов\\\\norder_values = np.array([2837.8, 3669.48, 761.91, 3700.4])\\\\n\\\\n# Рассчитываем медиану, 90-й и 99-й перцентили\\\\nmedian = np.median(order_values)\\\\npct_90 = np.percentile(order_values, 90)\\\\npct_99 = np.percentile(order_values, 99)\\\\n\\\\n# Вернуть значения\\\\noutput = {\\'median\\': median, \\'percentile_90\\': pct_90, \\'percentile_99\\': pct_99}\\\\noutput\"}\n",
    "\"\"\"\n"
   ]
  },
  {
   "cell_type": "code",
   "execution_count": 9,
   "metadata": {},
   "outputs": [
    {
     "name": "stdout",
     "output_type": "stream",
     "text": [
      "ConsoleOutput(text=Hello, World!\n",
      ")\n"
     ]
    }
   ],
   "source": [
    "from llm_sandbox import SandboxSession\n",
    "\n",
    "# Create a new sandbox session}\n",
    "with SandboxSession(lang=\"python\") as session:\n",
    "    result = session.run(\"print('Hello, World!')\")\n",
    "    print(result)\n"
   ]
  },
  {
   "cell_type": "code",
   "execution_count": 10,
   "metadata": {},
   "outputs": [
    {
     "ename": "NameError",
     "evalue": "name 'llm_code' is not defined",
     "output_type": "error",
     "traceback": [
      "\u001b[0;31m---------------------------------------------------------------------------\u001b[0m",
      "\u001b[0;31mNameError\u001b[0m                                 Traceback (most recent call last)",
      "Cell \u001b[0;32mIn[10], line 2\u001b[0m\n\u001b[1;32m      1\u001b[0m \u001b[38;5;28;01mwith\u001b[39;00m SandboxSession(lang\u001b[38;5;241m=\u001b[39m\u001b[38;5;124m\"\u001b[39m\u001b[38;5;124mpython\u001b[39m\u001b[38;5;124m\"\u001b[39m) \u001b[38;5;28;01mas\u001b[39;00m session:\n\u001b[0;32m----> 2\u001b[0m     result \u001b[38;5;241m=\u001b[39m session\u001b[38;5;241m.\u001b[39mrun(\u001b[43mllm_code\u001b[49m)\n\u001b[1;32m      3\u001b[0m     \u001b[38;5;28mprint\u001b[39m(result)\n",
      "\u001b[0;31mNameError\u001b[0m: name 'llm_code' is not defined"
     ]
    }
   ],
   "source": [
    "with SandboxSession(lang=\"python\") as session:\n",
    "    # result = session.run(\"\"\"import numpy as np\\n)\n",
    "    print(result)"
   ]
  },
  {
   "cell_type": "code",
   "execution_count": 11,
   "metadata": {},
   "outputs": [
    {
     "ename": "NameError",
     "evalue": "name 'llm_code' is not defined",
     "output_type": "error",
     "traceback": [
      "\u001b[0;31m---------------------------------------------------------------------------\u001b[0m",
      "\u001b[0;31mNameError\u001b[0m                                 Traceback (most recent call last)",
      "Cell \u001b[0;32mIn[11], line 1\u001b[0m\n\u001b[0;32m----> 1\u001b[0m \u001b[43mllm_code\u001b[49m\n",
      "\u001b[0;31mNameError\u001b[0m: name 'llm_code' is not defined"
     ]
    }
   ],
   "source": [
    "llm_code"
   ]
  },
  {
   "cell_type": "code",
   "execution_count": 18,
   "metadata": {},
   "outputs": [
    {
     "ename": "SyntaxError",
     "evalue": "invalid syntax (<string>, line 1)",
     "output_type": "error",
     "traceback": [
      "Traceback \u001b[0;36m(most recent call last)\u001b[0m:\n",
      "\u001b[0m  File \u001b[1;32m~/PycharmProjects/sql-agent/.venv/lib/python3.12/site-packages/IPython/core/interactiveshell.py:3577\u001b[0m in \u001b[1;35mrun_code\u001b[0m\n    exec(code_obj, self.user_global_ns, self.user_ns)\u001b[0m\n",
      "\u001b[0;36m  Cell \u001b[0;32mIn[18], line 1\u001b[0;36m\n\u001b[0;31m    r = eval('import numpy as np\\nprint(np.random.randint(1, 100))')\u001b[0;36m\n",
      "\u001b[0;36m  File \u001b[0;32m<string>:1\u001b[0;36m\u001b[0m\n\u001b[0;31m    import numpy as np\u001b[0m\n\u001b[0m    ^\u001b[0m\n\u001b[0;31mSyntaxError\u001b[0m\u001b[0;31m:\u001b[0m invalid syntax\n"
     ]
    }
   ],
   "source": [
    "r = eval('import numpy as np\\nprint(np.random.randint(1, 100))')"
   ]
  },
  {
   "cell_type": "code",
   "execution_count": 7,
   "metadata": {},
   "outputs": [
    {
     "ename": "BuildError",
     "evalue": "The command '/bin/sh -c pip install -r /sandbox_reqs.txt' returned a non-zero code: 1",
     "output_type": "error",
     "traceback": [
      "\u001b[0;31m---------------------------------------------------------------------------\u001b[0m",
      "\u001b[0;31mBuildError\u001b[0m                                Traceback (most recent call last)",
      "Cell \u001b[0;32mIn[7], line 1\u001b[0m\n\u001b[0;32m----> 1\u001b[0m \u001b[38;5;28;01mwith\u001b[39;00m SandboxSession(lang\u001b[38;5;241m=\u001b[39m\u001b[38;5;124m\"\u001b[39m\u001b[38;5;124mpython\u001b[39m\u001b[38;5;124m\"\u001b[39m, dockerfile\u001b[38;5;241m=\u001b[39mos\u001b[38;5;241m.\u001b[39mpath\u001b[38;5;241m.\u001b[39mabspath(\u001b[38;5;124m'\u001b[39m\u001b[38;5;124mDockerfile\u001b[39m\u001b[38;5;124m'\u001b[39m)) \u001b[38;5;28;01mas\u001b[39;00m session:\n\u001b[1;32m      2\u001b[0m     result \u001b[38;5;241m=\u001b[39m session\u001b[38;5;241m.\u001b[39mrun(\u001b[38;5;124m\"\"\"\u001b[39m\u001b[38;5;124mprint(1 + 2)\u001b[39m\u001b[38;5;124m\"\"\"\u001b[39m)\n\u001b[1;32m      3\u001b[0m     \u001b[38;5;28mprint\u001b[39m(result\u001b[38;5;241m.\u001b[39mtext)\n",
      "File \u001b[0;32m~/PycharmProjects/sql-agent/.venv/lib/python3.12/site-packages/llm_sandbox/base.py:57\u001b[0m, in \u001b[0;36mSession.__enter__\u001b[0;34m(self)\u001b[0m\n\u001b[1;32m     56\u001b[0m \u001b[38;5;28;01mdef\u001b[39;00m \u001b[38;5;21m__enter__\u001b[39m(\u001b[38;5;28mself\u001b[39m):\n\u001b[0;32m---> 57\u001b[0m     \u001b[38;5;28;43mself\u001b[39;49m\u001b[38;5;241;43m.\u001b[39;49m\u001b[43mopen\u001b[49m\u001b[43m(\u001b[49m\u001b[43m)\u001b[49m\n\u001b[1;32m     58\u001b[0m     \u001b[38;5;28;01mreturn\u001b[39;00m \u001b[38;5;28mself\u001b[39m\n",
      "File \u001b[0;32m~/PycharmProjects/sql-agent/.venv/lib/python3.12/site-packages/llm_sandbox/docker.py:97\u001b[0m, in \u001b[0;36mSandboxDockerSession.open\u001b[0;34m(self)\u001b[0m\n\u001b[1;32m     94\u001b[0m         f_str \u001b[38;5;241m=\u001b[39m \u001b[38;5;124mf\u001b[39m\u001b[38;5;124m\"\u001b[39m\u001b[38;5;132;01m{\u001b[39;00mf_str\u001b[38;5;132;01m}\u001b[39;00m\u001b[38;5;130;01m\\n\u001b[39;00m\u001b[38;5;132;01m{\u001b[39;00mwarning_str\u001b[38;5;132;01m}\u001b[39;00m\u001b[38;5;124m\"\u001b[39m \u001b[38;5;28;01mif\u001b[39;00m \u001b[38;5;28mself\u001b[39m\u001b[38;5;241m.\u001b[39mkeep_template \u001b[38;5;28;01melse\u001b[39;00m f_str\n\u001b[1;32m     95\u001b[0m         \u001b[38;5;28mprint\u001b[39m(f_str)\n\u001b[0;32m---> 97\u001b[0m     \u001b[38;5;28mself\u001b[39m\u001b[38;5;241m.\u001b[39mimage, _ \u001b[38;5;241m=\u001b[39m \u001b[38;5;28;43mself\u001b[39;49m\u001b[38;5;241;43m.\u001b[39;49m\u001b[43mclient\u001b[49m\u001b[38;5;241;43m.\u001b[39;49m\u001b[43mimages\u001b[49m\u001b[38;5;241;43m.\u001b[39;49m\u001b[43mbuild\u001b[49m\u001b[43m(\u001b[49m\n\u001b[1;32m     98\u001b[0m \u001b[43m        \u001b[49m\u001b[43mpath\u001b[49m\u001b[38;5;241;43m=\u001b[39;49m\u001b[38;5;28;43mself\u001b[39;49m\u001b[38;5;241;43m.\u001b[39;49m\u001b[43mpath\u001b[49m\u001b[43m,\u001b[49m\n\u001b[1;32m     99\u001b[0m \u001b[43m        \u001b[49m\u001b[43mdockerfile\u001b[49m\u001b[38;5;241;43m=\u001b[39;49m\u001b[43mos\u001b[49m\u001b[38;5;241;43m.\u001b[39;49m\u001b[43mpath\u001b[49m\u001b[38;5;241;43m.\u001b[39;49m\u001b[43mbasename\u001b[49m\u001b[43m(\u001b[49m\u001b[38;5;28;43mself\u001b[39;49m\u001b[38;5;241;43m.\u001b[39;49m\u001b[43mdockerfile\u001b[49m\u001b[43m)\u001b[49m\u001b[43m,\u001b[49m\n\u001b[1;32m    100\u001b[0m \u001b[43m        \u001b[49m\u001b[43mtag\u001b[49m\u001b[38;5;241;43m=\u001b[39;49m\u001b[38;5;124;43mf\u001b[39;49m\u001b[38;5;124;43m\"\u001b[39;49m\u001b[38;5;124;43msandbox-\u001b[39;49m\u001b[38;5;132;43;01m{\u001b[39;49;00m\u001b[38;5;28;43mself\u001b[39;49m\u001b[38;5;241;43m.\u001b[39;49m\u001b[43mlang\u001b[49m\u001b[38;5;241;43m.\u001b[39;49m\u001b[43mlower\u001b[49m\u001b[43m(\u001b[49m\u001b[43m)\u001b[49m\u001b[38;5;132;43;01m}\u001b[39;49;00m\u001b[38;5;124;43m-\u001b[39;49m\u001b[38;5;132;43;01m{\u001b[39;49;00m\u001b[43mos\u001b[49m\u001b[38;5;241;43m.\u001b[39;49m\u001b[43mpath\u001b[49m\u001b[38;5;241;43m.\u001b[39;49m\u001b[43mbasename\u001b[49m\u001b[43m(\u001b[49m\u001b[38;5;28;43mself\u001b[39;49m\u001b[38;5;241;43m.\u001b[39;49m\u001b[43mpath\u001b[49m\u001b[43m)\u001b[49m\u001b[38;5;132;43;01m}\u001b[39;49;00m\u001b[38;5;124;43m\"\u001b[39;49m\u001b[43m,\u001b[49m\n\u001b[1;32m    101\u001b[0m \u001b[43m    \u001b[49m\u001b[43m)\u001b[49m\n\u001b[1;32m    102\u001b[0m     \u001b[38;5;28mself\u001b[39m\u001b[38;5;241m.\u001b[39mis_create_template \u001b[38;5;241m=\u001b[39m \u001b[38;5;28;01mTrue\u001b[39;00m\n\u001b[1;32m    104\u001b[0m \u001b[38;5;28;01mif\u001b[39;00m \u001b[38;5;28misinstance\u001b[39m(\u001b[38;5;28mself\u001b[39m\u001b[38;5;241m.\u001b[39mimage, \u001b[38;5;28mstr\u001b[39m):\n",
      "File \u001b[0;32m~/PycharmProjects/sql-agent/.venv/lib/python3.12/site-packages/docker/models/images.py:304\u001b[0m, in \u001b[0;36mImageCollection.build\u001b[0;34m(self, **kwargs)\u001b[0m\n\u001b[1;32m    302\u001b[0m \u001b[38;5;28;01mfor\u001b[39;00m chunk \u001b[38;5;129;01min\u001b[39;00m internal_stream:\n\u001b[1;32m    303\u001b[0m     \u001b[38;5;28;01mif\u001b[39;00m \u001b[38;5;124m'\u001b[39m\u001b[38;5;124merror\u001b[39m\u001b[38;5;124m'\u001b[39m \u001b[38;5;129;01min\u001b[39;00m chunk:\n\u001b[0;32m--> 304\u001b[0m         \u001b[38;5;28;01mraise\u001b[39;00m BuildError(chunk[\u001b[38;5;124m'\u001b[39m\u001b[38;5;124merror\u001b[39m\u001b[38;5;124m'\u001b[39m], result_stream)\n\u001b[1;32m    305\u001b[0m     \u001b[38;5;28;01mif\u001b[39;00m \u001b[38;5;124m'\u001b[39m\u001b[38;5;124mstream\u001b[39m\u001b[38;5;124m'\u001b[39m \u001b[38;5;129;01min\u001b[39;00m chunk:\n\u001b[1;32m    306\u001b[0m         match \u001b[38;5;241m=\u001b[39m re\u001b[38;5;241m.\u001b[39msearch(\n\u001b[1;32m    307\u001b[0m             \u001b[38;5;124mr\u001b[39m\u001b[38;5;124m'\u001b[39m\u001b[38;5;124m(^Successfully built |sha256:)([0-9a-f]+)$\u001b[39m\u001b[38;5;124m'\u001b[39m,\n\u001b[1;32m    308\u001b[0m             chunk[\u001b[38;5;124m'\u001b[39m\u001b[38;5;124mstream\u001b[39m\u001b[38;5;124m'\u001b[39m]\n\u001b[1;32m    309\u001b[0m         )\n",
      "\u001b[0;31mBuildError\u001b[0m: The command '/bin/sh -c pip install -r /sandbox_reqs.txt' returned a non-zero code: 1"
     ]
    }
   ],
   "source": [
    "with SandboxSession(lang=\"python\", dockerfile=os.path.abspath('Dockerfile')) as session:\n",
    "    result = session.run(\"\"\"print(1 + 2)\"\"\")\n",
    "    print(result.text)\n",
    "    session.run(\"\"\"x = 1\"\"\")\n",
    "    session.run(\"\"\"print(x)\"\"\")\n",
    "    print(result.text)"
   ]
  },
  {
   "cell_type": "code",
   "execution_count": 3,
   "metadata": {},
   "outputs": [
    {
     "ename": "NameError",
     "evalue": "name 'session' is not defined",
     "output_type": "error",
     "traceback": [
      "\u001b[0;31m---------------------------------------------------------------------------\u001b[0m",
      "\u001b[0;31mNameError\u001b[0m                                 Traceback (most recent call last)",
      "Cell \u001b[0;32mIn[3], line 1\u001b[0m\n\u001b[0;32m----> 1\u001b[0m \u001b[43msession\u001b[49m\u001b[38;5;241m.\u001b[39mpath\n",
      "\u001b[0;31mNameError\u001b[0m: name 'session' is not defined"
     ]
    }
   ],
   "source": [
    "session.path"
   ]
  },
  {
   "cell_type": "code",
   "execution_count": 13,
   "metadata": {},
   "outputs": [
    {
     "name": "stdout",
     "output_type": "stream",
     "text": [
      "/\n",
      "['tmp', 'bin', 'srv', 'proc', 'home', 'root', 'run', 'lib', 'etc', 'dev', 'mnt', 'sbin', 'opt', 'usr', 'sys', 'var', 'boot', 'media', 'database.sqlite', '.dockerenv', 'sandbox_reqs.txt']\n",
      "\n"
     ]
    }
   ],
   "source": [
    "with SandboxSession(lang=\"python\", dockerfile=os.path.abspath('Dockerfile')) as session:\n",
    "    session.copy_to_runtime(src='database.sqlite', dest='/')\n",
    "    res = session.run(\"\"\"import os; print(os.getcwd()); print(os.listdir())\"\"\")\n",
    "    print(res.text)\n"
   ]
  },
  {
   "cell_type": "code",
   "execution_count": null,
   "metadata": {},
   "outputs": [],
   "source": []
  }
 ],
 "metadata": {
  "kernelspec": {
   "display_name": ".venv",
   "language": "python",
   "name": "python3"
  },
  "language_info": {
   "codemirror_mode": {
    "name": "ipython",
    "version": 3
   },
   "file_extension": ".py",
   "mimetype": "text/x-python",
   "name": "python",
   "nbconvert_exporter": "python",
   "pygments_lexer": "ipython3",
   "version": "3.12.7"
  }
 },
 "nbformat": 4,
 "nbformat_minor": 2
}
